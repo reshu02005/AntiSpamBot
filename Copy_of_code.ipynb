{
  "nbformat": 4,
  "nbformat_minor": 0,
  "metadata": {
    "colab": {
      "provenance": [],
      "toc_visible": true
    },
    "kernelspec": {
      "name": "python3",
      "display_name": "Python 3"
    },
    "language_info": {
      "name": "python"
    }
  },
  "cells": [
    {
      "cell_type": "code",
      "source": [
        "import pandas as pd\n",
        "import nltk\n",
        "from nltk.corpus import stopwords\n",
        "import string\n",
        "from sklearn.feature_extraction.text import CountVectorizer\n",
        "from sklearn.model_selection import train_test_split\n",
        "from sklearn.naive_bayes import MultinomialNB\n",
        "from sklearn.metrics import classification_report, confusion_matrix, accuracy_score\n"
      ],
      "metadata": {
        "id": "hA5kqnI_n1kW"
      },
      "execution_count": null,
      "outputs": []
    },
    {
      "cell_type": "code",
      "source": [
        "nltk.download('stopwords')\n"
      ],
      "metadata": {
        "colab": {
          "base_uri": "https://localhost:8080/"
        },
        "id": "mtXO0y-Zn5If",
        "outputId": "adf2c80a-f7b5-4c02-9f81-74bd7a13bfa5"
      },
      "execution_count": null,
      "outputs": [
        {
          "output_type": "stream",
          "name": "stderr",
          "text": [
            "[nltk_data] Downloading package stopwords to /root/nltk_data...\n",
            "[nltk_data]   Unzipping corpora/stopwords.zip.\n"
          ]
        },
        {
          "output_type": "execute_result",
          "data": {
            "text/plain": [
              "True"
            ]
          },
          "metadata": {},
          "execution_count": 5
        }
      ]
    },
    {
      "cell_type": "code",
      "source": [
        "df = pd.read_csv(\"spam.csv\", encoding='ISO-8859-1')\n",
        "df.drop(['Unnamed: 2', 'Unnamed: 3', 'Unnamed: 4'], axis=1, inplace=True)\n",
        "df = df.rename(columns={\"v1\": \"category\", \"v2\": \"messages\"})\n",
        "\n",
        "\n",
        "df['spam'] = df['category'].apply(lambda x: 1 if x == 'spam' else 0)\n",
        "\n",
        "\n",
        "df.drop_duplicates(inplace=True)\n",
        "def process_text(text):\n",
        "\n",
        "    nopunc = [char for char in text if char not in string.punctuation]\n",
        "    nopunc = ''.join(nopunc)\n",
        "\n"
      ],
      "metadata": {
        "id": "U0Xpopohrbqi"
      },
      "execution_count": null,
      "outputs": []
    },
    {
      "cell_type": "code",
      "source": [
        "from sklearn.feature_extraction.text import CountVectorizer\n",
        "from sklearn.model_selection import train_test_split\n",
        "\n",
        "df['messages'] = df['messages'].fillna(\"\")\n",
        "\n",
        "def process_text(text):\n",
        "    if not isinstance(text, str):\n",
        "        return \"\"\n",
        "    return text.lower().split()\n",
        "vectorizer = CountVectorizer(analyzer=process_text)\n",
        "messages_bow = vectorizer.fit_transform(df['messages'])\n",
        "X_train, X_test, y_train, y_test = train_test_split(messages_bow, df['spam'], test_size=0.20, random_state=0)\n",
        "print(\"Preprocessing successful!\")\n"
      ],
      "metadata": {
        "colab": {
          "base_uri": "https://localhost:8080/"
        },
        "id": "jm8kgHz60MBm",
        "outputId": "8eb89ef0-bc68-4cb0-8060-16125d2a6a68"
      },
      "execution_count": null,
      "outputs": [
        {
          "output_type": "stream",
          "name": "stdout",
          "text": [
            "Preprocessing successful!\n"
          ]
        }
      ]
    },
    {
      "cell_type": "code",
      "source": [
        "classifier = MultinomialNB()\n",
        "classifier.fit(X_train, y_train)\n",
        "\n",
        "pred = classifier.predict(X_train)\n",
        "print(classification_report(y_train, pred))\n",
        "print('Confusion Matrix: \\n', confusion_matrix(y_train, pred))\n",
        "print('Accuracy: ', accuracy_score(y_train, pred))\n",
        "\n"
      ],
      "metadata": {
        "colab": {
          "base_uri": "https://localhost:8080/"
        },
        "id": "iCof1MQc0dKE",
        "outputId": "8fdc12fe-c2a9-4f80-fc52-c192a0fce516"
      },
      "execution_count": null,
      "outputs": [
        {
          "output_type": "stream",
          "name": "stdout",
          "text": [
            "              precision    recall  f1-score   support\n",
            "\n",
            "           0       1.00      1.00      1.00      3631\n",
            "           1       0.99      0.96      0.97       504\n",
            "\n",
            "    accuracy                           0.99      4135\n",
            "   macro avg       0.99      0.98      0.99      4135\n",
            "weighted avg       0.99      0.99      0.99      4135\n",
            "\n",
            "Confusion Matrix: \n",
            " [[3624    7]\n",
            " [  18  486]]\n",
            "Accuracy:  0.9939540507859734\n"
          ]
        }
      ]
    },
    {
      "cell_type": "code",
      "source": [
        "def predict_email(email):\n",
        "    processed_email = process_text(email)\n",
        "\n",
        "    processed_email_str = ' '.join(processed_email)\n",
        "\n",
        "    email_vector = vectorizer.transform([processed_email_str])\n",
        "    prediction = classifier.predict(email_vector)\n",
        "    return \"Spam\" if prediction[0] == 1 else \"Ham\"\n"
      ],
      "metadata": {
        "id": "Ifg6Pewk0f5D"
      },
      "execution_count": null,
      "outputs": []
    },
    {
      "cell_type": "code",
      "source": [],
      "metadata": {
        "id": "yW1EZ14P5vMi"
      },
      "execution_count": null,
      "outputs": []
    },
    {
      "cell_type": "code",
      "source": [
        "\n",
        "\n",
        "def predict_email(email_text):\n",
        "    return \"Spam\" if \"win\" in email_text.lower() else \"Not Spam\"\n",
        "\n",
        "try:\n",
        "    user_email = input(\"Enter the email text: \")\n",
        "    prediction = predict_email(user_email)\n",
        "    print(f\"Prediction for your email: {prediction}\")\n",
        "except KeyboardInterrupt:\n",
        "    print(\"\\nInput interrupted by user. Please try again.\")\n",
        "\n"
      ],
      "metadata": {
        "id": "08HBX01200GE",
        "colab": {
          "base_uri": "https://localhost:8080/"
        },
        "outputId": "210e1b01-388d-40ff-836f-65be654c771b"
      },
      "execution_count": null,
      "outputs": [
        {
          "output_type": "stream",
          "name": "stdout",
          "text": [
            "Enter the email text: Nah I don't think he goes to usf, he lives around here though\n",
            "Prediction for your email: Not Spam\n"
          ]
        }
      ]
    }
  ]
}